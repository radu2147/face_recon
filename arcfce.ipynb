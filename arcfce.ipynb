{
 "cells": [
  {
   "cell_type": "code",
   "execution_count": 12,
   "source": [
    "import numpy as np\r\n",
    "import cv2\r\n",
    "import time"
   ],
   "outputs": [],
   "metadata": {}
  },
  {
   "cell_type": "code",
   "execution_count": 13,
   "source": [
    "def cosine_distance(x, y):\r\n",
    "    return np.dot(x, y) / ((np.dot(x, x) ** 0.5) * (np.dot(y, y) ** 0.5))"
   ],
   "outputs": [],
   "metadata": {}
  },
  {
   "cell_type": "code",
   "execution_count": 14,
   "source": [
    "from arcface import ArcFace\r\n",
    "face_rec = ArcFace.ArcFace()\r\n",
    "face_cascade = cv2.CascadeClassifier('haarcascade_frontalface_default.xml')\r\n",
    "img = cv2.imread('data/me.jpg')\r\n",
    "gray = cv2.cvtColor(img, cv2.COLOR_BGR2GRAY)\r\n",
    "faces = face_cascade.detectMultiScale(gray, 1.1, 4)\r\n",
    "(x, y, w, h) = faces[0]\r\n",
    "me = face_rec.calc_emb(img[y:y+h, x:x+w])\r\n",
    "print(me.shape)"
   ],
   "outputs": [
    {
     "output_type": "stream",
     "name": "stdout",
     "text": [
      "(512,)\n"
     ]
    }
   ],
   "metadata": {}
  },
  {
   "cell_type": "code",
   "execution_count": 15,
   "source": [
    "import cv2\r\n",
    "import time\r\n",
    "\r\n",
    "# Load the cascade\r\n",
    "face_cascade = cv2.CascadeClassifier('haarcascade_frontalface_default.xml')\r\n",
    "\r\n",
    "# To capture video from webcam. \r\n",
    "cap = cv2.VideoCapture(0)\r\n",
    "# To use a video file as input \r\n",
    "# cap = cv2.VideoCapture('filename.mp4')\r\n",
    "\r\n",
    "while True:\r\n",
    "    time.sleep(0.1)\r\n",
    "    # Read the frame\r\n",
    "    _, img = cap.read()\r\n",
    "    # Convert to grayscale\r\n",
    "    gray = cv2.cvtColor(img, cv2.COLOR_BGR2GRAY)\r\n",
    "    # Detect the faces\r\n",
    "    faces = face_cascade.detectMultiScale(gray, 1.1, 4)\r\n",
    "    # Draw the rectangle around each face\r\n",
    "    for (x, y, w, h) in faces:\r\n",
    "        sim = cosine_distance(me, face_rec.calc_emb(img[y : y + h, x : x + w]))\r\n",
    "        if(sim > 0.68):\r\n",
    "            image = cv2.rectangle(img, (x, y), (x+w, y+h), (255, 0, 0), 2)\r\n",
    "            cv2.putText(image, 'Radu', (x, y-10), cv2.FONT_HERSHEY_SIMPLEX, 0.9, (255, 0, 0), 2)\r\n",
    "        else:\r\n",
    "            cv2.rectangle(img, (x, y), (x+w, y+h), (255, 0, 0), 2)\r\n",
    "    # Display\r\n",
    "    cv2.imshow('img', img)\r\n",
    "    # Stop if escape key is pressed\r\n",
    "    k = cv2.waitKey(30) & 0xff\r\n",
    "    if k==27:\r\n",
    "        break\r\n",
    "# Release the VideoCapture object\r\n",
    "cap.release()"
   ],
   "outputs": [],
   "metadata": {}
  },
  {
   "cell_type": "code",
   "execution_count": null,
   "source": [],
   "outputs": [],
   "metadata": {}
  }
 ],
 "metadata": {
  "orig_nbformat": 4,
  "language_info": {
   "name": "python",
   "version": "3.9.6",
   "mimetype": "text/x-python",
   "codemirror_mode": {
    "name": "ipython",
    "version": 3
   },
   "pygments_lexer": "ipython3",
   "nbconvert_exporter": "python",
   "file_extension": ".py"
  },
  "kernelspec": {
   "name": "python3",
   "display_name": "Python 3.9.6 64-bit"
  },
  "interpreter": {
   "hash": "5f32b46b154a184afd9e753b821bd49119defb768fad04c1245ac055f31252d7"
  }
 },
 "nbformat": 4,
 "nbformat_minor": 2
}